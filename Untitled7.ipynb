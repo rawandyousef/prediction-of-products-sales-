{
  "nbformat": 4,
  "nbformat_minor": 0,
  "metadata": {
    "colab": {
      "provenance": [],
      "authorship_tag": "ABX9TyPIwm1X3uh8fjgT5Mzq3uHt",
      "include_colab_link": true
    },
    "kernelspec": {
      "name": "python3",
      "display_name": "Python 3"
    },
    "language_info": {
      "name": "python"
    }
  },
  "cells": [
    {
      "cell_type": "markdown",
      "metadata": {
        "id": "view-in-github",
        "colab_type": "text"
      },
      "source": [
        "<a href=\"https://colab.research.google.com/github/rawandyousef/prediction-of-products-sales-/blob/main/Untitled7.ipynb\" target=\"_parent\"><img src=\"https://colab.research.google.com/assets/colab-badge.svg\" alt=\"Open In Colab\"/></a>"
      ]
    },
    {
      "cell_type": "markdown",
      "source": [
        "# **Project Title: prediction-of-products-sales-**\n",
        "\n",
        "\n",
        "\n",
        "\n",
        "\n",
        "\n",
        "\n",
        "\n",
        "\n",
        "\n",
        "\n",
        "\n",
        "\n"
      ],
      "metadata": {
        "id": "r-fSvU1hjdjN"
      }
    },
    {
      "cell_type": "markdown",
      "source": [
        "*   *Author : Rawand Deek*"
      ],
      "metadata": {
        "id": "dOV_PDUbo0rb"
      }
    },
    {
      "cell_type": "code",
      "source": [],
      "metadata": {
        "id": "sr8FbUropnXd"
      },
      "execution_count": null,
      "outputs": []
    },
    {
      "cell_type": "markdown",
      "source": [
        "## **Project Overview**"
      ],
      "metadata": {
        "id": "H6DGujy6lqhg"
      }
    },
    {
      "cell_type": "markdown",
      "source": [
        "## **Load and Inspect Data**"
      ],
      "metadata": {
        "id": "uJW27ZtinPNe"
      }
    },
    {
      "cell_type": "code",
      "source": [],
      "metadata": {
        "id": "4F1Oyf9epSaW"
      },
      "execution_count": null,
      "outputs": []
    },
    {
      "cell_type": "markdown",
      "source": [
        "## **Clean Data**"
      ],
      "metadata": {
        "id": "BbGHIYw6pS42"
      }
    },
    {
      "cell_type": "code",
      "source": [],
      "metadata": {
        "id": "_cWI1jXZpZEG"
      },
      "execution_count": null,
      "outputs": []
    },
    {
      "cell_type": "markdown",
      "source": [
        "## **Exploratory Data Analysis**"
      ],
      "metadata": {
        "id": "E4jU0dJOpZjm"
      }
    },
    {
      "cell_type": "code",
      "source": [],
      "metadata": {
        "id": "3y7CrN1jpeUQ"
      },
      "execution_count": null,
      "outputs": []
    },
    {
      "cell_type": "markdown",
      "source": [
        "## **Future Inspections**"
      ],
      "metadata": {
        "id": "wdyb69bnph7e"
      }
    },
    {
      "cell_type": "code",
      "source": [],
      "metadata": {
        "id": "bCYjZyKdppIU"
      },
      "execution_count": null,
      "outputs": []
    }
  ]
}